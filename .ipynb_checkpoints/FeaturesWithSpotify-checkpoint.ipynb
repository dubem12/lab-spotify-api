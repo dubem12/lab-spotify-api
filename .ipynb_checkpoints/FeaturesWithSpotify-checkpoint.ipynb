{
 "cells": [
  {
   "cell_type": "code",
   "execution_count": 22,
   "id": "05e94b2e",
   "metadata": {},
   "outputs": [],
   "source": [
    "from config import *\n"
   ]
  },
  {
   "cell_type": "code",
   "execution_count": 23,
   "id": "0136eaaa",
   "metadata": {},
   "outputs": [],
   "source": [
    "import spotipy\n",
    "import json\n",
    "from spotipy.oauth2 import SpotifyClientCredentials\n",
    "import numpy as np\n",
    "import pandas as pd\n",
    "from time import sleep"
   ]
  },
  {
   "cell_type": "code",
   "execution_count": 24,
   "id": "996dce22",
   "metadata": {},
   "outputs": [],
   "source": [
    "sp = spotipy.Spotify(auth_manager=SpotifyClientCredentials(client_id= client_id,\n",
    "                                                           client_secret= client_secret))"
   ]
  },
  {
   "cell_type": "code",
   "execution_count": 25,
   "id": "dc1c2eee",
   "metadata": {},
   "outputs": [],
   "source": [
    "#Create a function to search a given single song in the Spotify API\n",
    "\n",
    "def search_song(artist_name, track_title):\n",
    "    search_query = f\"artist:{artist_name} track:{track_title}\"\n",
    "    results = sp.search(q=search_query, type='track', limit=10)\n",
    "    track_names_list = []\n",
    "    artist_list = []\n",
    "    album_name_list = []\n",
    "    if results['tracks']['items']:\n",
    "        for track in results['tracks']['items']:\n",
    "            track_name = track['name']\n",
    "            artists = \", \".join([artist['name'] for artist in track['artists']])\n",
    "            album_name = track['album']['name']\n",
    "            track_uri = track['uri']\n",
    "            track_id = track['id']\n",
    "            track_href = track['href']\n",
    "            print(f\"Track Name: {track_name}\\nArtists: {artists}\\nAlbum: {album_name}\")\n",
    "            #append to list\n",
    "            track_names_list.append(track_name)\n",
    "            artist_list.append(artists)\n",
    "            album_name_list.append(album_name)\n",
    "    else:\n",
    "        print(f\"No results found for '{track_title}' by '{artist_name}'.\")\n",
    "    results_df = pd.DataFrame({\"Title\": track_names_list, \"Artist\": artist_list, \"Album\": album_name_list})\n",
    "    return results_df"
   ]
  },
  {
   "cell_type": "code",
   "execution_count": null,
   "id": "1d1b9558",
   "metadata": {},
   "outputs": [],
   "source": []
  },
  {
   "cell_type": "code",
   "execution_count": 26,
   "id": "1c4f5f4a",
   "metadata": {},
   "outputs": [],
   "source": [
    "import requests\n",
    "from bs4 import BeautifulSoup\n",
    "\n",
    "\n",
    "# Function to scrape the Billboard Hot 100 chart\n",
    "def scrape_hot100() -> pd.DataFrame:\n",
    "    url = \"https://www.billboard.com/charts/hot-100\"\n",
    "    response = requests.get(url)\n",
    "    soup = BeautifulSoup(response.text, 'html.parser')\n",
    "    \n",
    "    artists = [artist.text.strip() for artist in soup.select('span.c-label.a-no-truncate')]\n",
    "    titles = [title.text.strip() for title in soup.select('h3.a-no-truncate.c-title')]\n",
    "    \n",
    "    data = {\n",
    "        'Artist': artists,\n",
    "        'Title': titles,\n",
    "    }\n",
    "    df = pd.DataFrame(data)\n",
    "    \n",
    "    return df\n"
   ]
  },
  {
   "cell_type": "code",
   "execution_count": 27,
   "id": "3644d409",
   "metadata": {},
   "outputs": [],
   "source": [
    "# Collect data from Billboard\n",
    "hot100 = scrape_hot100()"
   ]
  },
  {
   "cell_type": "code",
   "execution_count": 28,
   "id": "a3cc111b",
   "metadata": {},
   "outputs": [],
   "source": [
    "# Search for Spotify IDs for each song\n",
    "def songs_ids(df):\n",
    "    id_song = []\n",
    "\n",
    "    for index, row in df.iterrows():\n",
    "        title = row[\"Title\"]\n",
    "        artist = row[\"Artist\"]\n",
    "        query = \" track: \" + title + \" artist: \" + artist\n",
    "\n",
    "        try:\n",
    "            results = sp.search(q=query, limit=1)\n",
    "            song_id = results[\"tracks\"][\"items\"][0][\"id\"]\n",
    "            id_song.append(song_id)\n",
    "        except:\n",
    "            song_id = np.nan\n",
    "            id_song.append(song_id)\n",
    "            print(f\"ID not found for {title} by {artist}\")\n",
    "\n",
    "        sleep(20)\n",
    "\n",
    "    df['ids'] = id_song\n",
    "    return df"
   ]
  },
  {
   "cell_type": "code",
   "execution_count": 29,
   "id": "dfc2467c",
   "metadata": {},
   "outputs": [],
   "source": [
    "# Collect Spotify IDs for Billboard songs\n",
    "hot100_with_ids = songs_ids(hot100)"
   ]
  },
  {
   "cell_type": "code",
   "execution_count": 30,
   "id": "5462405c",
   "metadata": {},
   "outputs": [
    {
     "name": "stdout",
     "output_type": "stream",
     "text": [
      "Empty DataFrame\n",
      "Columns: [Artist, Title, ids]\n",
      "Index: []\n"
     ]
    }
   ],
   "source": [
    "# Display the resulting DataFrame\n",
    "print(hot100_with_ids)"
   ]
  },
  {
   "cell_type": "code",
   "execution_count": null,
   "id": "b38fc989",
   "metadata": {},
   "outputs": [],
   "source": []
  },
  {
   "cell_type": "code",
   "execution_count": null,
   "id": "74b6936a",
   "metadata": {},
   "outputs": [],
   "source": []
  },
  {
   "cell_type": "code",
   "execution_count": null,
   "id": "6c2f267e",
   "metadata": {},
   "outputs": [],
   "source": []
  },
  {
   "cell_type": "code",
   "execution_count": null,
   "id": "4ac8045c",
   "metadata": {},
   "outputs": [],
   "source": []
  }
 ],
 "metadata": {
  "kernelspec": {
   "display_name": "Python 3 (ipykernel)",
   "language": "python",
   "name": "python3"
  },
  "language_info": {
   "codemirror_mode": {
    "name": "ipython",
    "version": 3
   },
   "file_extension": ".py",
   "mimetype": "text/x-python",
   "name": "python",
   "nbconvert_exporter": "python",
   "pygments_lexer": "ipython3",
   "version": "3.11.4"
  }
 },
 "nbformat": 4,
 "nbformat_minor": 5
}
